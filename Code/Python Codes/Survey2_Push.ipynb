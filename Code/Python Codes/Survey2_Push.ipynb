{
  "nbformat": 4,
  "nbformat_minor": 0,
  "metadata": {
    "colab": {
      "provenance": [],
      "collapsed_sections": [
        "CahNjuRG0KbU"
      ],
      "include_colab_link": true
    },
    "kernelspec": {
      "name": "python3",
      "display_name": "Python 3"
    },
    "language_info": {
      "name": "python"
    }
  },
  "cells": [
    {
      "cell_type": "markdown",
      "metadata": {
        "id": "view-in-github",
        "colab_type": "text"
      },
      "source": [
        "<a href=\"https://colab.research.google.com/github/JayrajRadadiya/Capstone-Project/blob/main/PythonCodes/Survey2_Push.ipynb\" target=\"_parent\"><img src=\"https://colab.research.google.com/assets/colab-badge.svg\" alt=\"Open In Colab\"/></a>"
      ]
    },
    {
      "cell_type": "code",
      "source": [
        "#!pip install --upgrade google-auth google-auth-oauthlib google-auth-httplib2 google-api-python-client"
      ],
      "metadata": {
        "id": "wwlPuQvQDybv"
      },
      "execution_count": null,
      "outputs": []
    },
    {
      "cell_type": "markdown",
      "source": [
        "# Module 1"
      ],
      "metadata": {
        "id": "CahNjuRG0KbU"
      }
    },
    {
      "cell_type": "markdown",
      "source": [
        "**Uploading Survey 2 data through CSV**"
      ],
      "metadata": {
        "id": "uWIgH3O8daWG"
      }
    },
    {
      "cell_type": "code",
      "source": [
        "import google.colab\n",
        "google.colab.auth.authenticate_user()"
      ],
      "metadata": {
        "id": "6402WscWBHcM"
      },
      "execution_count": null,
      "outputs": []
    },
    {
      "cell_type": "code",
      "source": [
        "from google.colab import files\n",
        "\n",
        "# upload CSV file from local machine\n",
        "uploaded = files.upload()"
      ],
      "metadata": {
        "colab": {
          "base_uri": "https://localhost:8080/",
          "height": 73
        },
        "id": "WezhJox2LDrT",
        "outputId": "ce0f7f73-e70f-489f-ecfb-38899bb14908"
      },
      "execution_count": null,
      "outputs": [
        {
          "output_type": "display_data",
          "data": {
            "text/plain": [
              "<IPython.core.display.HTML object>"
            ],
            "text/html": [
              "\n",
              "     <input type=\"file\" id=\"files-04ef5df7-53e2-47d1-b4ea-b22def3bacac\" name=\"files[]\" multiple disabled\n",
              "        style=\"border:none\" />\n",
              "     <output id=\"result-04ef5df7-53e2-47d1-b4ea-b22def3bacac\">\n",
              "      Upload widget is only available when the cell has been executed in the\n",
              "      current browser session. Please rerun this cell to enable.\n",
              "      </output>\n",
              "      <script>// Copyright 2017 Google LLC\n",
              "//\n",
              "// Licensed under the Apache License, Version 2.0 (the \"License\");\n",
              "// you may not use this file except in compliance with the License.\n",
              "// You may obtain a copy of the License at\n",
              "//\n",
              "//      http://www.apache.org/licenses/LICENSE-2.0\n",
              "//\n",
              "// Unless required by applicable law or agreed to in writing, software\n",
              "// distributed under the License is distributed on an \"AS IS\" BASIS,\n",
              "// WITHOUT WARRANTIES OR CONDITIONS OF ANY KIND, either express or implied.\n",
              "// See the License for the specific language governing permissions and\n",
              "// limitations under the License.\n",
              "\n",
              "/**\n",
              " * @fileoverview Helpers for google.colab Python module.\n",
              " */\n",
              "(function(scope) {\n",
              "function span(text, styleAttributes = {}) {\n",
              "  const element = document.createElement('span');\n",
              "  element.textContent = text;\n",
              "  for (const key of Object.keys(styleAttributes)) {\n",
              "    element.style[key] = styleAttributes[key];\n",
              "  }\n",
              "  return element;\n",
              "}\n",
              "\n",
              "// Max number of bytes which will be uploaded at a time.\n",
              "const MAX_PAYLOAD_SIZE = 100 * 1024;\n",
              "\n",
              "function _uploadFiles(inputId, outputId) {\n",
              "  const steps = uploadFilesStep(inputId, outputId);\n",
              "  const outputElement = document.getElementById(outputId);\n",
              "  // Cache steps on the outputElement to make it available for the next call\n",
              "  // to uploadFilesContinue from Python.\n",
              "  outputElement.steps = steps;\n",
              "\n",
              "  return _uploadFilesContinue(outputId);\n",
              "}\n",
              "\n",
              "// This is roughly an async generator (not supported in the browser yet),\n",
              "// where there are multiple asynchronous steps and the Python side is going\n",
              "// to poll for completion of each step.\n",
              "// This uses a Promise to block the python side on completion of each step,\n",
              "// then passes the result of the previous step as the input to the next step.\n",
              "function _uploadFilesContinue(outputId) {\n",
              "  const outputElement = document.getElementById(outputId);\n",
              "  const steps = outputElement.steps;\n",
              "\n",
              "  const next = steps.next(outputElement.lastPromiseValue);\n",
              "  return Promise.resolve(next.value.promise).then((value) => {\n",
              "    // Cache the last promise value to make it available to the next\n",
              "    // step of the generator.\n",
              "    outputElement.lastPromiseValue = value;\n",
              "    return next.value.response;\n",
              "  });\n",
              "}\n",
              "\n",
              "/**\n",
              " * Generator function which is called between each async step of the upload\n",
              " * process.\n",
              " * @param {string} inputId Element ID of the input file picker element.\n",
              " * @param {string} outputId Element ID of the output display.\n",
              " * @return {!Iterable<!Object>} Iterable of next steps.\n",
              " */\n",
              "function* uploadFilesStep(inputId, outputId) {\n",
              "  const inputElement = document.getElementById(inputId);\n",
              "  inputElement.disabled = false;\n",
              "\n",
              "  const outputElement = document.getElementById(outputId);\n",
              "  outputElement.innerHTML = '';\n",
              "\n",
              "  const pickedPromise = new Promise((resolve) => {\n",
              "    inputElement.addEventListener('change', (e) => {\n",
              "      resolve(e.target.files);\n",
              "    });\n",
              "  });\n",
              "\n",
              "  const cancel = document.createElement('button');\n",
              "  inputElement.parentElement.appendChild(cancel);\n",
              "  cancel.textContent = 'Cancel upload';\n",
              "  const cancelPromise = new Promise((resolve) => {\n",
              "    cancel.onclick = () => {\n",
              "      resolve(null);\n",
              "    };\n",
              "  });\n",
              "\n",
              "  // Wait for the user to pick the files.\n",
              "  const files = yield {\n",
              "    promise: Promise.race([pickedPromise, cancelPromise]),\n",
              "    response: {\n",
              "      action: 'starting',\n",
              "    }\n",
              "  };\n",
              "\n",
              "  cancel.remove();\n",
              "\n",
              "  // Disable the input element since further picks are not allowed.\n",
              "  inputElement.disabled = true;\n",
              "\n",
              "  if (!files) {\n",
              "    return {\n",
              "      response: {\n",
              "        action: 'complete',\n",
              "      }\n",
              "    };\n",
              "  }\n",
              "\n",
              "  for (const file of files) {\n",
              "    const li = document.createElement('li');\n",
              "    li.append(span(file.name, {fontWeight: 'bold'}));\n",
              "    li.append(span(\n",
              "        `(${file.type || 'n/a'}) - ${file.size} bytes, ` +\n",
              "        `last modified: ${\n",
              "            file.lastModifiedDate ? file.lastModifiedDate.toLocaleDateString() :\n",
              "                                    'n/a'} - `));\n",
              "    const percent = span('0% done');\n",
              "    li.appendChild(percent);\n",
              "\n",
              "    outputElement.appendChild(li);\n",
              "\n",
              "    const fileDataPromise = new Promise((resolve) => {\n",
              "      const reader = new FileReader();\n",
              "      reader.onload = (e) => {\n",
              "        resolve(e.target.result);\n",
              "      };\n",
              "      reader.readAsArrayBuffer(file);\n",
              "    });\n",
              "    // Wait for the data to be ready.\n",
              "    let fileData = yield {\n",
              "      promise: fileDataPromise,\n",
              "      response: {\n",
              "        action: 'continue',\n",
              "      }\n",
              "    };\n",
              "\n",
              "    // Use a chunked sending to avoid message size limits. See b/62115660.\n",
              "    let position = 0;\n",
              "    do {\n",
              "      const length = Math.min(fileData.byteLength - position, MAX_PAYLOAD_SIZE);\n",
              "      const chunk = new Uint8Array(fileData, position, length);\n",
              "      position += length;\n",
              "\n",
              "      const base64 = btoa(String.fromCharCode.apply(null, chunk));\n",
              "      yield {\n",
              "        response: {\n",
              "          action: 'append',\n",
              "          file: file.name,\n",
              "          data: base64,\n",
              "        },\n",
              "      };\n",
              "\n",
              "      let percentDone = fileData.byteLength === 0 ?\n",
              "          100 :\n",
              "          Math.round((position / fileData.byteLength) * 100);\n",
              "      percent.textContent = `${percentDone}% done`;\n",
              "\n",
              "    } while (position < fileData.byteLength);\n",
              "  }\n",
              "\n",
              "  // All done.\n",
              "  yield {\n",
              "    response: {\n",
              "      action: 'complete',\n",
              "    }\n",
              "  };\n",
              "}\n",
              "\n",
              "scope.google = scope.google || {};\n",
              "scope.google.colab = scope.google.colab || {};\n",
              "scope.google.colab._files = {\n",
              "  _uploadFiles,\n",
              "  _uploadFilesContinue,\n",
              "};\n",
              "})(self);\n",
              "</script> "
            ]
          },
          "metadata": {}
        },
        {
          "output_type": "stream",
          "name": "stdout",
          "text": [
            "Saving Student_Survey_2.csv to Student_Survey_2 (3).csv\n"
          ]
        }
      ]
    },
    {
      "cell_type": "code",
      "source": [
        "import io\n",
        "import pandas as pd\n",
        "df2 = pd.read_csv(io.BytesIO(uploaded['Student_Survey_2.csv']))"
      ],
      "metadata": {
        "id": "1tD-lZNJUy4T"
      },
      "execution_count": null,
      "outputs": []
    },
    {
      "cell_type": "code",
      "source": [
        "df2.columns"
      ],
      "metadata": {
        "colab": {
          "base_uri": "https://localhost:8080/"
        },
        "id": "v93zgIibVZcU",
        "outputId": "a640b7ec-fb05-4b87-8bcf-061abd481e99"
      },
      "execution_count": null,
      "outputs": [
        {
          "output_type": "execute_result",
          "data": {
            "text/plain": [
              "Index(['Timestamp', 'Username',\n",
              "       'In which cohort (Intake) did you start the DAB program?',\n",
              "       'Which semester are you currently enrolled in?',\n",
              "       'Are the events and services of the college effectively communicated?',\n",
              "       'Which of the following services provided by the SRC/College are you interested in exploring or hearing more about?',\n",
              "       'According to you, are there sufficient transportation service options available between Downtown and South Campus during events?',\n",
              "       'In your opinion, would it be beneficial for the students to have additional events in Downtown, such as job fairs, cultural events, games, and career services?',\n",
              "       'Do you have any suggestions or feedback regarding the services and events offered by the college?',\n",
              "       'Is the duration of breaks between lectures appropriate?',\n",
              "       'How would you rate the study areas currently available in or near the Downtown campus, on a scale of 1 to 5?',\n",
              "       'Would you like to be in the same section throughout the duration of the program?',\n",
              "       'Unnamed: 12', 'Unnamed: 13', 'Unnamed: 14'],\n",
              "      dtype='object')"
            ]
          },
          "metadata": {},
          "execution_count": 97
        }
      ]
    },
    {
      "cell_type": "markdown",
      "source": [
        "**Columns Renaming**\n"
      ],
      "metadata": {
        "id": "CWOs10Zhd1Qo"
      }
    },
    {
      "cell_type": "code",
      "source": [
        "df2 = df2.rename(columns={\n",
        "    'In which cohort (Intake) did you start the DAB program?': 'Intake',\n",
        "    'Which semester are you currently enrolled in?': 'Semester',\n",
        "    'Are the events and services of the college effectively communicated?': 'Services_comm',\n",
        "    'Which of the following services provided by the SRC/College are you interested in exploring or hearing more about?': 'Services_list',\n",
        "    'According to you, are there sufficient transportation service options available between Downtown and South Campus during events?': 'Commute',\n",
        "    'In your opinion, would it be beneficial for the students to have additional events in Downtown, such as job fairs, cultural events, games, and career services?': 'Additional_events',\n",
        "    'Do you have any suggestions or feedback regarding the services and events offered by the college?': 'Events_suggestions',\n",
        "    'Is the duration of breaks between lectures appropriate?': 'Breaks_btwn_Lecture',\n",
        "    'How would you rate the study areas currently available in or near the Downtown campus, on a scale of 1 to 5?': 'Study_area_rating',\n",
        "    'Would you like to be in the same section throughout the duration of the program?': 'Same_section',\n",
        "})\n",
        "\n"
      ],
      "metadata": {
        "id": "M_PXDKEVETx1"
      },
      "execution_count": null,
      "outputs": []
    },
    {
      "cell_type": "code",
      "source": [
        "df2.info()"
      ],
      "metadata": {
        "id": "csRHa1C_KfP-",
        "colab": {
          "base_uri": "https://localhost:8080/"
        },
        "outputId": "0a3474ed-7f4c-49c1-cb6c-c8abb6f4616a"
      },
      "execution_count": null,
      "outputs": [
        {
          "output_type": "stream",
          "name": "stdout",
          "text": [
            "<class 'pandas.core.frame.DataFrame'>\n",
            "RangeIndex: 80 entries, 0 to 79\n",
            "Data columns (total 15 columns):\n",
            " #   Column               Non-Null Count  Dtype \n",
            "---  ------               --------------  ----- \n",
            " 0   Timestamp            80 non-null     object\n",
            " 1   Username             1 non-null      object\n",
            " 2   Intake               80 non-null     object\n",
            " 3   Semester             80 non-null     object\n",
            " 4   Services_comm        80 non-null     object\n",
            " 5   Services_list        80 non-null     object\n",
            " 6   Commute              80 non-null     object\n",
            " 7   Additional_events    80 non-null     object\n",
            " 8   Events_suggestions   31 non-null     object\n",
            " 9   Breaks_btwn_Lecture  80 non-null     object\n",
            " 10  Study_area_rating    80 non-null     object\n",
            " 11  Same_section         80 non-null     object\n",
            " 12  Unnamed: 12          1 non-null      object\n",
            " 13  Unnamed: 13          1 non-null      object\n",
            " 14  Unnamed: 14          1 non-null      object\n",
            "dtypes: object(15)\n",
            "memory usage: 9.5+ KB\n"
          ]
        }
      ]
    },
    {
      "cell_type": "markdown",
      "source": [
        "**Droping Unwanted columns**"
      ],
      "metadata": {
        "id": "F6EpkidJeF28"
      }
    },
    {
      "cell_type": "code",
      "source": [
        "df2=df2.drop(['Timestamp'],axis=1)\n",
        "df2=df2.drop(['Username'],axis=1)\n",
        "df2=df2.drop(['Unnamed: 12'],axis=1)\n",
        "df2=df2.drop(['Unnamed: 13'],axis=1)\n",
        "df2=df2.drop(['Unnamed: 14'],axis=1)\n"
      ],
      "metadata": {
        "id": "XDMb--HeE1T1"
      },
      "execution_count": null,
      "outputs": []
    },
    {
      "cell_type": "markdown",
      "source": [
        "**Checking Null Values**"
      ],
      "metadata": {
        "id": "S-M6gbC6fnXZ"
      }
    },
    {
      "cell_type": "code",
      "source": [
        "df2.isnull().sum()"
      ],
      "metadata": {
        "id": "JnMZZ_7kkaZ8",
        "colab": {
          "base_uri": "https://localhost:8080/"
        },
        "outputId": "2799368c-12f4-4e26-f703-4fc672dbe8c2"
      },
      "execution_count": null,
      "outputs": [
        {
          "output_type": "execute_result",
          "data": {
            "text/plain": [
              "Intake                  0\n",
              "Semester                0\n",
              "Services_comm           0\n",
              "Services_list           0\n",
              "Commute                 0\n",
              "Additional_events       0\n",
              "Events_suggestions     49\n",
              "Breaks_btwn_Lecture     0\n",
              "Study_area_rating       0\n",
              "Same_section            0\n",
              "dtype: int64"
            ]
          },
          "metadata": {},
          "execution_count": 101
        }
      ]
    },
    {
      "cell_type": "code",
      "source": [
        "df2['Events_suggestions']=df2['Events_suggestions'].fillna('None')"
      ],
      "metadata": {
        "id": "L8iXe5flrpHk"
      },
      "execution_count": null,
      "outputs": []
    },
    {
      "cell_type": "code",
      "source": [
        "df2.info()"
      ],
      "metadata": {
        "colab": {
          "base_uri": "https://localhost:8080/"
        },
        "id": "vMAeONDDcCVR",
        "outputId": "1331e5db-da84-414d-d96c-0d753612dd21"
      },
      "execution_count": null,
      "outputs": [
        {
          "output_type": "stream",
          "name": "stdout",
          "text": [
            "<class 'pandas.core.frame.DataFrame'>\n",
            "RangeIndex: 80 entries, 0 to 79\n",
            "Data columns (total 10 columns):\n",
            " #   Column               Non-Null Count  Dtype \n",
            "---  ------               --------------  ----- \n",
            " 0   Intake               80 non-null     object\n",
            " 1   Semester             80 non-null     object\n",
            " 2   Services_comm        80 non-null     object\n",
            " 3   Services_list        80 non-null     object\n",
            " 4   Commute              80 non-null     object\n",
            " 5   Additional_events    80 non-null     object\n",
            " 6   Events_suggestions   80 non-null     object\n",
            " 7   Breaks_btwn_Lecture  80 non-null     object\n",
            " 8   Study_area_rating    80 non-null     object\n",
            " 9   Same_section         80 non-null     object\n",
            "dtypes: object(10)\n",
            "memory usage: 6.4+ KB\n"
          ]
        }
      ]
    },
    {
      "cell_type": "code",
      "source": [
        "one_hot_encoded = df2['Services_list'].str.get_dummies(sep=';')\n",
        "df2 = pd.concat([df2, one_hot_encoded], axis=1)\n",
        "df2 = df2.rename(columns={\n",
        "    'Commute/Transportation': 'Transportation'})"
      ],
      "metadata": {
        "id": "lD2A3-aqsV-Z"
      },
      "execution_count": null,
      "outputs": []
    },
    {
      "cell_type": "code",
      "source": [
        "df2.info()"
      ],
      "metadata": {
        "colab": {
          "base_uri": "https://localhost:8080/"
        },
        "id": "fBOwkM2ot9zC",
        "outputId": "12811966-659d-4894-d8fb-2dbaacdc1026"
      },
      "execution_count": null,
      "outputs": [
        {
          "output_type": "stream",
          "name": "stdout",
          "text": [
            "<class 'pandas.core.frame.DataFrame'>\n",
            "RangeIndex: 80 entries, 0 to 79\n",
            "Data columns (total 20 columns):\n",
            " #   Column               Non-Null Count  Dtype \n",
            "---  ------               --------------  ----- \n",
            " 0   Intake               80 non-null     object\n",
            " 1   Semester             80 non-null     object\n",
            " 2   Services_comm        80 non-null     object\n",
            " 3   Services_list        80 non-null     object\n",
            " 4   Commute              80 non-null     object\n",
            " 5   Additional_events    80 non-null     object\n",
            " 6   Events_suggestions   80 non-null     object\n",
            " 7   Breaks_btwn_Lecture  80 non-null     object\n",
            " 8   Study_area_rating    80 non-null     object\n",
            " 9   Same_section         80 non-null     object\n",
            " 10  Career Services      80 non-null     int64 \n",
            " 11  Transportation       80 non-null     int64 \n",
            " 12  Food Bank            80 non-null     int64 \n",
            " 13  Health and Nursing   80 non-null     int64 \n",
            " 14  Housing              80 non-null     int64 \n",
            " 15  Parking Services     80 non-null     int64 \n",
            " 16  Printing Services    80 non-null     int64 \n",
            " 17  SRC Service Office   80 non-null     int64 \n",
            " 18  Safe walk            80 non-null     int64 \n",
            " 19  Tax Assistance       80 non-null     int64 \n",
            "dtypes: int64(10), object(10)\n",
            "memory usage: 12.6+ KB\n"
          ]
        }
      ]
    },
    {
      "cell_type": "markdown",
      "source": [
        "**API Connection to Google BigQuery Database (surveyproject-378222.Capstone_Project)**\n",
        "\n"
      ],
      "metadata": {
        "id": "xLI3m0aFgIMs"
      }
    },
    {
      "cell_type": "code",
      "source": [
        "from google.cloud import bigquery\n",
        "client = bigquery.Client(project='surveyproject-378222')\n",
        "sql_code = \"\"\"\n",
        "DROP TABLE IF EXISTS `surveyproject-378222.Capstone_Project.Surevy2_Base_Table`;\n",
        "\"\"\"\n",
        "table_id = 'surveyproject-378222.Capstone_Project.Surevy2_Base_Table'\n",
        "\n",
        "# Defining the schema for the new table\n",
        "schema = [\n",
        "    bigquery.SchemaField('Intake', 'STRING', mode='REQUIRED'),\n",
        "    bigquery.SchemaField('Semester', 'STRING', mode='REQUIRED'),\n",
        "    bigquery.SchemaField('Services_comm', 'STRING'),\n",
        "    bigquery.SchemaField('Services_list', 'STRING'),\n",
        "    bigquery.SchemaField('Commute', 'STRING'),\n",
        "    bigquery.SchemaField('Additional_events', 'STRING'),\n",
        "    bigquery.SchemaField('Events_suggestions', 'STRING'),\n",
        "    bigquery.SchemaField('Breaks_btwn_Lecture', 'BOOLEAN'),\n",
        "    bigquery.SchemaField('Study_area_rating', 'STRING'),\n",
        "    bigquery.SchemaField('Same_section', 'STRING'),\n",
        "    bigquery.SchemaField('Career Services', 'STRING'),\n",
        "    bigquery.SchemaField('Commute/Transportation', 'STRING'),\n",
        "    bigquery.SchemaField('Food Bank', 'STRING'),\n",
        "    bigquery.SchemaField('Health and Nursing', 'STRING'),\n",
        "    bigquery.SchemaField('Housing', 'STRING'),\n",
        "    bigquery.SchemaField('Parking Services', 'STRING'),\n",
        "    bigquery.SchemaField('Printing Services', 'STRING'),\n",
        "    bigquery.SchemaField('SRC Service Office', 'STRING'),\n",
        "    bigquery.SchemaField('Safe walk', 'STRING'),\n",
        "    bigquery.SchemaField('Tax Assistance', 'STRING')\n",
        "\n",
        "]\n",
        "\n",
        "try:\n",
        "    # Try to get the existing table\n",
        "    table = client.get_table(table_id)\n",
        "    print(f'Table {table.table_id} already exists in BigQuery.')\n",
        "except google.api_core.exceptions.NotFound:\n",
        "    # If the table does not exist, create it\n",
        "    table = bigquery.Table(table_id, schema=schema)\n",
        "    table = client.create_table(table)\n",
        "    print(f'Table {table.table_id} created in BigQuery.')\n",
        "\n",
        "\n",
        "project_id = 'surveyproject-378222'\n",
        "\n",
        "client = bigquery.Client(project=project_id)\n",
        "job_config = bigquery.LoadJobConfig()\n",
        "job_config.source_format = bigquery.SourceFormat.CSV\n",
        "job_config.write_disposition = bigquery.WriteDisposition.WRITE_TRUNCATE\n",
        "job = client.load_table_from_dataframe(df2, table_id, job_config=job_config)\n",
        "job.result()\n",
        "\n"
      ],
      "metadata": {
        "id": "LDNH7lRPh6lv",
        "colab": {
          "base_uri": "https://localhost:8080/"
        },
        "outputId": "f8c64b85-455f-4879-8fde-28db87b9888d"
      },
      "execution_count": null,
      "outputs": [
        {
          "output_type": "stream",
          "name": "stdout",
          "text": [
            "Table Surevy2_Base_Table already exists in BigQuery.\n"
          ]
        },
        {
          "output_type": "execute_result",
          "data": {
            "text/plain": [
              "LoadJob<project=surveyproject-378222, location=northamerica-northeast2, id=61d645bb-7db1-477d-9632-1be9abf5ac09>"
            ]
          },
          "metadata": {},
          "execution_count": 106
        }
      ]
    },
    {
      "cell_type": "code",
      "source": [
        "import pandas_gbq\n",
        "\n",
        "sb2= pandas_gbq.read_gbq(f'SELECT * FROM `surveyproject-378222.Capstone_Project.Surevy2_Base_Table`',project_id='surveyproject-378222', dialect='standard') \n",
        "sb2.describe()"
      ],
      "metadata": {
        "id": "kg5K0UHw95uJ",
        "colab": {
          "base_uri": "https://localhost:8080/",
          "height": 317
        },
        "outputId": "8b1e5eab-9c3d-4702-b903-3064c32ba9c2"
      },
      "execution_count": null,
      "outputs": [
        {
          "output_type": "stream",
          "name": "stdout",
          "text": [
            "Downloading: 100%|\u001b[32m██████████\u001b[0m|\n"
          ]
        },
        {
          "output_type": "execute_result",
          "data": {
            "text/plain": [
              "       Career Services  Transportation  Food Bank  Health and Nursing  \\\n",
              "count        80.000000       80.000000  80.000000           80.000000   \n",
              "mean          0.750000        0.262500   0.450000            0.362500   \n",
              "std           0.435745        0.442769   0.500633            0.483755   \n",
              "min           0.000000        0.000000   0.000000            0.000000   \n",
              "25%           0.750000        0.000000   0.000000            0.000000   \n",
              "50%           1.000000        0.000000   0.000000            0.000000   \n",
              "75%           1.000000        1.000000   1.000000            1.000000   \n",
              "max           1.000000        1.000000   1.000000            1.000000   \n",
              "\n",
              "         Housing  Parking Services  Printing Services  SRC Service Office  \\\n",
              "count  80.000000         80.000000          80.000000           80.000000   \n",
              "mean    0.312500          0.200000           0.250000            0.362500   \n",
              "std     0.466437          0.402524           0.435745            0.483755   \n",
              "min     0.000000          0.000000           0.000000            0.000000   \n",
              "25%     0.000000          0.000000           0.000000            0.000000   \n",
              "50%     0.000000          0.000000           0.000000            0.000000   \n",
              "75%     1.000000          0.000000           0.250000            1.000000   \n",
              "max     1.000000          1.000000           1.000000            1.000000   \n",
              "\n",
              "       Safe walk  Tax Assistance  \n",
              "count  80.000000       80.000000  \n",
              "mean    0.100000        0.500000  \n",
              "std     0.301893        0.503155  \n",
              "min     0.000000        0.000000  \n",
              "25%     0.000000        0.000000  \n",
              "50%     0.000000        0.500000  \n",
              "75%     0.000000        1.000000  \n",
              "max     1.000000        1.000000  "
            ],
            "text/html": [
              "\n",
              "  <div id=\"df-3517660a-e249-443f-97da-89d634f1fe17\">\n",
              "    <div class=\"colab-df-container\">\n",
              "      <div>\n",
              "<style scoped>\n",
              "    .dataframe tbody tr th:only-of-type {\n",
              "        vertical-align: middle;\n",
              "    }\n",
              "\n",
              "    .dataframe tbody tr th {\n",
              "        vertical-align: top;\n",
              "    }\n",
              "\n",
              "    .dataframe thead th {\n",
              "        text-align: right;\n",
              "    }\n",
              "</style>\n",
              "<table border=\"1\" class=\"dataframe\">\n",
              "  <thead>\n",
              "    <tr style=\"text-align: right;\">\n",
              "      <th></th>\n",
              "      <th>Career Services</th>\n",
              "      <th>Transportation</th>\n",
              "      <th>Food Bank</th>\n",
              "      <th>Health and Nursing</th>\n",
              "      <th>Housing</th>\n",
              "      <th>Parking Services</th>\n",
              "      <th>Printing Services</th>\n",
              "      <th>SRC Service Office</th>\n",
              "      <th>Safe walk</th>\n",
              "      <th>Tax Assistance</th>\n",
              "    </tr>\n",
              "  </thead>\n",
              "  <tbody>\n",
              "    <tr>\n",
              "      <th>count</th>\n",
              "      <td>80.000000</td>\n",
              "      <td>80.000000</td>\n",
              "      <td>80.000000</td>\n",
              "      <td>80.000000</td>\n",
              "      <td>80.000000</td>\n",
              "      <td>80.000000</td>\n",
              "      <td>80.000000</td>\n",
              "      <td>80.000000</td>\n",
              "      <td>80.000000</td>\n",
              "      <td>80.000000</td>\n",
              "    </tr>\n",
              "    <tr>\n",
              "      <th>mean</th>\n",
              "      <td>0.750000</td>\n",
              "      <td>0.262500</td>\n",
              "      <td>0.450000</td>\n",
              "      <td>0.362500</td>\n",
              "      <td>0.312500</td>\n",
              "      <td>0.200000</td>\n",
              "      <td>0.250000</td>\n",
              "      <td>0.362500</td>\n",
              "      <td>0.100000</td>\n",
              "      <td>0.500000</td>\n",
              "    </tr>\n",
              "    <tr>\n",
              "      <th>std</th>\n",
              "      <td>0.435745</td>\n",
              "      <td>0.442769</td>\n",
              "      <td>0.500633</td>\n",
              "      <td>0.483755</td>\n",
              "      <td>0.466437</td>\n",
              "      <td>0.402524</td>\n",
              "      <td>0.435745</td>\n",
              "      <td>0.483755</td>\n",
              "      <td>0.301893</td>\n",
              "      <td>0.503155</td>\n",
              "    </tr>\n",
              "    <tr>\n",
              "      <th>min</th>\n",
              "      <td>0.000000</td>\n",
              "      <td>0.000000</td>\n",
              "      <td>0.000000</td>\n",
              "      <td>0.000000</td>\n",
              "      <td>0.000000</td>\n",
              "      <td>0.000000</td>\n",
              "      <td>0.000000</td>\n",
              "      <td>0.000000</td>\n",
              "      <td>0.000000</td>\n",
              "      <td>0.000000</td>\n",
              "    </tr>\n",
              "    <tr>\n",
              "      <th>25%</th>\n",
              "      <td>0.750000</td>\n",
              "      <td>0.000000</td>\n",
              "      <td>0.000000</td>\n",
              "      <td>0.000000</td>\n",
              "      <td>0.000000</td>\n",
              "      <td>0.000000</td>\n",
              "      <td>0.000000</td>\n",
              "      <td>0.000000</td>\n",
              "      <td>0.000000</td>\n",
              "      <td>0.000000</td>\n",
              "    </tr>\n",
              "    <tr>\n",
              "      <th>50%</th>\n",
              "      <td>1.000000</td>\n",
              "      <td>0.000000</td>\n",
              "      <td>0.000000</td>\n",
              "      <td>0.000000</td>\n",
              "      <td>0.000000</td>\n",
              "      <td>0.000000</td>\n",
              "      <td>0.000000</td>\n",
              "      <td>0.000000</td>\n",
              "      <td>0.000000</td>\n",
              "      <td>0.500000</td>\n",
              "    </tr>\n",
              "    <tr>\n",
              "      <th>75%</th>\n",
              "      <td>1.000000</td>\n",
              "      <td>1.000000</td>\n",
              "      <td>1.000000</td>\n",
              "      <td>1.000000</td>\n",
              "      <td>1.000000</td>\n",
              "      <td>0.000000</td>\n",
              "      <td>0.250000</td>\n",
              "      <td>1.000000</td>\n",
              "      <td>0.000000</td>\n",
              "      <td>1.000000</td>\n",
              "    </tr>\n",
              "    <tr>\n",
              "      <th>max</th>\n",
              "      <td>1.000000</td>\n",
              "      <td>1.000000</td>\n",
              "      <td>1.000000</td>\n",
              "      <td>1.000000</td>\n",
              "      <td>1.000000</td>\n",
              "      <td>1.000000</td>\n",
              "      <td>1.000000</td>\n",
              "      <td>1.000000</td>\n",
              "      <td>1.000000</td>\n",
              "      <td>1.000000</td>\n",
              "    </tr>\n",
              "  </tbody>\n",
              "</table>\n",
              "</div>\n",
              "      <button class=\"colab-df-convert\" onclick=\"convertToInteractive('df-3517660a-e249-443f-97da-89d634f1fe17')\"\n",
              "              title=\"Convert this dataframe to an interactive table.\"\n",
              "              style=\"display:none;\">\n",
              "        \n",
              "  <svg xmlns=\"http://www.w3.org/2000/svg\" height=\"24px\"viewBox=\"0 0 24 24\"\n",
              "       width=\"24px\">\n",
              "    <path d=\"M0 0h24v24H0V0z\" fill=\"none\"/>\n",
              "    <path d=\"M18.56 5.44l.94 2.06.94-2.06 2.06-.94-2.06-.94-.94-2.06-.94 2.06-2.06.94zm-11 1L8.5 8.5l.94-2.06 2.06-.94-2.06-.94L8.5 2.5l-.94 2.06-2.06.94zm10 10l.94 2.06.94-2.06 2.06-.94-2.06-.94-.94-2.06-.94 2.06-2.06.94z\"/><path d=\"M17.41 7.96l-1.37-1.37c-.4-.4-.92-.59-1.43-.59-.52 0-1.04.2-1.43.59L10.3 9.45l-7.72 7.72c-.78.78-.78 2.05 0 2.83L4 21.41c.39.39.9.59 1.41.59.51 0 1.02-.2 1.41-.59l7.78-7.78 2.81-2.81c.8-.78.8-2.07 0-2.86zM5.41 20L4 18.59l7.72-7.72 1.47 1.35L5.41 20z\"/>\n",
              "  </svg>\n",
              "      </button>\n",
              "      \n",
              "  <style>\n",
              "    .colab-df-container {\n",
              "      display:flex;\n",
              "      flex-wrap:wrap;\n",
              "      gap: 12px;\n",
              "    }\n",
              "\n",
              "    .colab-df-convert {\n",
              "      background-color: #E8F0FE;\n",
              "      border: none;\n",
              "      border-radius: 50%;\n",
              "      cursor: pointer;\n",
              "      display: none;\n",
              "      fill: #1967D2;\n",
              "      height: 32px;\n",
              "      padding: 0 0 0 0;\n",
              "      width: 32px;\n",
              "    }\n",
              "\n",
              "    .colab-df-convert:hover {\n",
              "      background-color: #E2EBFA;\n",
              "      box-shadow: 0px 1px 2px rgba(60, 64, 67, 0.3), 0px 1px 3px 1px rgba(60, 64, 67, 0.15);\n",
              "      fill: #174EA6;\n",
              "    }\n",
              "\n",
              "    [theme=dark] .colab-df-convert {\n",
              "      background-color: #3B4455;\n",
              "      fill: #D2E3FC;\n",
              "    }\n",
              "\n",
              "    [theme=dark] .colab-df-convert:hover {\n",
              "      background-color: #434B5C;\n",
              "      box-shadow: 0px 1px 3px 1px rgba(0, 0, 0, 0.15);\n",
              "      filter: drop-shadow(0px 1px 2px rgba(0, 0, 0, 0.3));\n",
              "      fill: #FFFFFF;\n",
              "    }\n",
              "  </style>\n",
              "\n",
              "      <script>\n",
              "        const buttonEl =\n",
              "          document.querySelector('#df-3517660a-e249-443f-97da-89d634f1fe17 button.colab-df-convert');\n",
              "        buttonEl.style.display =\n",
              "          google.colab.kernel.accessAllowed ? 'block' : 'none';\n",
              "\n",
              "        async function convertToInteractive(key) {\n",
              "          const element = document.querySelector('#df-3517660a-e249-443f-97da-89d634f1fe17');\n",
              "          const dataTable =\n",
              "            await google.colab.kernel.invokeFunction('convertToInteractive',\n",
              "                                                     [key], {});\n",
              "          if (!dataTable) return;\n",
              "\n",
              "          const docLinkHtml = 'Like what you see? Visit the ' +\n",
              "            '<a target=\"_blank\" href=https://colab.research.google.com/notebooks/data_table.ipynb>data table notebook</a>'\n",
              "            + ' to learn more about interactive tables.';\n",
              "          element.innerHTML = '';\n",
              "          dataTable['output_type'] = 'display_data';\n",
              "          await google.colab.output.renderOutput(dataTable, element);\n",
              "          const docLink = document.createElement('div');\n",
              "          docLink.innerHTML = docLinkHtml;\n",
              "          element.appendChild(docLink);\n",
              "        }\n",
              "      </script>\n",
              "    </div>\n",
              "  </div>\n",
              "  "
            ]
          },
          "metadata": {},
          "execution_count": 107
        }
      ]
    },
    {
      "cell_type": "code",
      "source": [
        " df2.to_csv('Survey2.csv', index=False)\n",
        " from google.colab import files\n",
        " files.download('Survey2.csv')"
      ],
      "metadata": {
        "id": "cZZHum7ceKvV",
        "colab": {
          "base_uri": "https://localhost:8080/",
          "height": 17
        },
        "outputId": "eda0449b-8754-4e6b-8ad7-d3b5e107e6b0"
      },
      "execution_count": null,
      "outputs": [
        {
          "output_type": "display_data",
          "data": {
            "text/plain": [
              "<IPython.core.display.Javascript object>"
            ],
            "application/javascript": [
              "\n",
              "    async function download(id, filename, size) {\n",
              "      if (!google.colab.kernel.accessAllowed) {\n",
              "        return;\n",
              "      }\n",
              "      const div = document.createElement('div');\n",
              "      const label = document.createElement('label');\n",
              "      label.textContent = `Downloading \"${filename}\": `;\n",
              "      div.appendChild(label);\n",
              "      const progress = document.createElement('progress');\n",
              "      progress.max = size;\n",
              "      div.appendChild(progress);\n",
              "      document.body.appendChild(div);\n",
              "\n",
              "      const buffers = [];\n",
              "      let downloaded = 0;\n",
              "\n",
              "      const channel = await google.colab.kernel.comms.open(id);\n",
              "      // Send a message to notify the kernel that we're ready.\n",
              "      channel.send({})\n",
              "\n",
              "      for await (const message of channel.messages) {\n",
              "        // Send a message to notify the kernel that we're ready.\n",
              "        channel.send({})\n",
              "        if (message.buffers) {\n",
              "          for (const buffer of message.buffers) {\n",
              "            buffers.push(buffer);\n",
              "            downloaded += buffer.byteLength;\n",
              "            progress.value = downloaded;\n",
              "          }\n",
              "        }\n",
              "      }\n",
              "      const blob = new Blob(buffers, {type: 'application/binary'});\n",
              "      const a = document.createElement('a');\n",
              "      a.href = window.URL.createObjectURL(blob);\n",
              "      a.download = filename;\n",
              "      div.appendChild(a);\n",
              "      a.click();\n",
              "      div.remove();\n",
              "    }\n",
              "  "
            ]
          },
          "metadata": {}
        },
        {
          "output_type": "display_data",
          "data": {
            "text/plain": [
              "<IPython.core.display.Javascript object>"
            ],
            "application/javascript": [
              "download(\"download_06c5c481-412e-4259-9f0c-2b9af2596809\", \"Survey2.csv\", 12590)"
            ]
          },
          "metadata": {}
        }
      ]
    }
  ]
}
